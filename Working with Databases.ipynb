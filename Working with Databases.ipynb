{
 "cells": [
  {
   "cell_type": "markdown",
   "id": "acb85388",
   "metadata": {},
   "source": [
    "# Psycopg2"
   ]
  },
  {
   "cell_type": "code",
   "execution_count": 1,
   "id": "74c29e48",
   "metadata": {},
   "outputs": [],
   "source": [
    "with open(\"askpyfesh.txt\", \"r\") as file:\n",
    "    secret_name = file.read()"
   ]
  },
  {
   "cell_type": "code",
   "execution_count": 2,
   "id": "8eb2921e",
   "metadata": {},
   "outputs": [],
   "source": [
    "import psycopg2\n",
    "import psycopg2.extras\n",
    "import boto3\n",
    "import json\n",
    "\n",
    "query = \"SELECT * FROM ms_ig_metrics_x limit 10\""
   ]
  },
  {
   "cell_type": "code",
   "execution_count": 3,
   "id": "b7393e3d",
   "metadata": {},
   "outputs": [],
   "source": [
    "def get_secret_value(name, version=None):\n",
    "    \"\"\"\n",
    "    Version (if defined) is used to retrieve a particular version of\n",
    "    the secret.\n",
    "\n",
    "    \"\"\"\n",
    "    secrets_client = boto3.client(\"secretsmanager\")\n",
    "    kwargs = {'SecretId': name}\n",
    "    if version is not None:\n",
    "        kwargs['VersionStage'] = version\n",
    "    response = secrets_client.get_secret_value(**kwargs)\n",
    "    if response[\"ResponseMetadata\"][\"HTTPStatusCode\"] == 200:\n",
    "        return True, response.get(\"SecretString\")\n",
    "    return False, \"Secret key not found\""
   ]
  },
  {
   "cell_type": "code",
   "execution_count": 5,
   "id": "eb4fb5cc",
   "metadata": {},
   "outputs": [
    {
     "ename": "NameError",
     "evalue": "name 'secret_name' is not defined",
     "output_type": "error",
     "traceback": [
      "\u001b[1;31m---------------------------------------------------------------------------\u001b[0m",
      "\u001b[1;31mNameError\u001b[0m                                 Traceback (most recent call last)",
      "Cell \u001b[1;32mIn[5], line 1\u001b[0m\n\u001b[1;32m----> 1\u001b[0m _, rds_pack \u001b[38;5;241m=\u001b[39m get_secret_value(name\u001b[38;5;241m=\u001b[39m\u001b[43msecret_name\u001b[49m)\n\u001b[0;32m      2\u001b[0m rds_pack \u001b[38;5;241m=\u001b[39m json\u001b[38;5;241m.\u001b[39mloads(rds_pack)\n\u001b[0;32m      4\u001b[0m user \u001b[38;5;241m=\u001b[39m rds_pack[\u001b[38;5;124m\"\u001b[39m\u001b[38;5;124musername\u001b[39m\u001b[38;5;124m\"\u001b[39m]\n",
      "\u001b[1;31mNameError\u001b[0m: name 'secret_name' is not defined"
     ]
    }
   ],
   "source": [
    "_, rds_pack = get_secret_value(name=secret_name)\n",
    "rds_pack = json.loads(rds_pack)\n",
    "\n",
    "user = rds_pack[\"username\"]\n",
    "password = rds_pack[\"password\"]\n",
    "host = rds_pack[\"host\"]\n",
    "dbname = rds_pack[\"dbname\"]\n",
    "port=5432"
   ]
  },
  {
   "cell_type": "code",
   "execution_count": null,
   "id": "09c4ad20",
   "metadata": {},
   "outputs": [],
   "source": [
    "host[-18:]"
   ]
  },
  {
   "cell_type": "markdown",
   "id": "4937ee5c",
   "metadata": {},
   "source": [
    "### Fetch and organise your outcome yourself\n",
    "\n",
    "- The Cursor"
   ]
  },
  {
   "cell_type": "code",
   "execution_count": null,
   "id": "fea62de6",
   "metadata": {},
   "outputs": [],
   "source": [
    "#query\n",
    "conn = psycopg2.connect(dbname=dbname, user=user, password=password, host=host, port=port)\n",
    "cursor = conn.cursor()\n",
    "cursor.execute(query)\n",
    "results = cursor.fetchall()\n",
    "cursor.close()\n",
    "conn.close()"
   ]
  },
  {
   "cell_type": "code",
   "execution_count": null,
   "id": "8a7426b1",
   "metadata": {},
   "outputs": [],
   "source": [
    "##peep cursor attributes\n",
    "# cursor.\n",
    "# cursor.connection.closed\n",
    "# cursor.closed\n",
    "# cursor.rowcount #how many objects 'affected' by query verb\n",
    "# cursor.rownumber #fetch progress: cursor position on the table index - useful in iterations and flow mgt"
   ]
  },
  {
   "cell_type": "markdown",
   "id": "03a598ec",
   "metadata": {},
   "source": [
    "### fetchone vs fetchall\n",
    "\n",
    "- fetchone"
   ]
  },
  {
   "cell_type": "code",
   "execution_count": null,
   "id": "d743bb78",
   "metadata": {},
   "outputs": [],
   "source": [
    "query = \"SELECT * FROM ms_ig_metrics_x limit 10\"\n",
    "conn = psycopg2.connect(dbname=dbname, user=user, password=password, host=host, port=port)\n",
    "\n",
    "cursor = conn.cursor()\n",
    "cursor.execute(query)\n",
    "one_result = cursor.fetchone()\n",
    "type(one_result)"
   ]
  },
  {
   "cell_type": "code",
   "execution_count": null,
   "id": "2fd99289",
   "metadata": {},
   "outputs": [],
   "source": [
    "##count vs number progress\n",
    "# cursor.rowcount\n",
    "# cursor.rownumber\n",
    "# cursor.closed\n",
    "# again = cursor.fetchone()\n",
    "# cursor.rowcount\n",
    "# cursor.rownumber\n",
    "# cursor.close()\n",
    "# conn.close()\n",
    "# another = cursor.fetchone()"
   ]
  },
  {
   "cell_type": "markdown",
   "id": "5186c404",
   "metadata": {},
   "source": [
    "- fetchall"
   ]
  },
  {
   "cell_type": "code",
   "execution_count": null,
   "id": "c134dc8f",
   "metadata": {},
   "outputs": [],
   "source": [
    "conn = psycopg2.connect(dbname=dbname, user=user, password=password, host=host, port=port)\n",
    "\n",
    "cursor = conn.cursor()\n",
    "cursor.execute(query)\n",
    "results = cursor.fetchall()\n",
    "cursor.close()\n",
    "conn.close()"
   ]
  },
  {
   "cell_type": "code",
   "execution_count": null,
   "id": "d92afd45",
   "metadata": {},
   "outputs": [],
   "source": [
    "type(results), len(results)\n",
    "# cursor.rowcount\n",
    "# cursor.rownumber\n",
    "# cursor.closed"
   ]
  },
  {
   "cell_type": "code",
   "execution_count": null,
   "id": "de5eb1cc",
   "metadata": {},
   "outputs": [],
   "source": [
    "# #peep results\n",
    "# results\n",
    "# results[0]"
   ]
  },
  {
   "cell_type": "markdown",
   "id": "9651a54d",
   "metadata": {},
   "source": [
    "- cursor.description"
   ]
  },
  {
   "cell_type": "code",
   "execution_count": null,
   "id": "f63f2129",
   "metadata": {},
   "outputs": [],
   "source": [
    "cursor.description"
   ]
  },
  {
   "cell_type": "code",
   "execution_count": null,
   "id": "577cac6c",
   "metadata": {},
   "outputs": [],
   "source": [
    "# cursor.description[0]\n",
    "# type(cursor.description[0]) #have tuple behavior"
   ]
  },
  {
   "cell_type": "code",
   "execution_count": null,
   "id": "88597a03",
   "metadata": {},
   "outputs": [],
   "source": [
    "#fetch columns\n",
    "# for line in cursor.description:\n",
    "#     print(line[0])\n",
    "# [line[0] for line in cursor.description]"
   ]
  },
  {
   "cell_type": "code",
   "execution_count": null,
   "id": "d66501f6",
   "metadata": {},
   "outputs": [],
   "source": [
    "columns = [line[0] for line in cursor.description]"
   ]
  },
  {
   "cell_type": "code",
   "execution_count": null,
   "id": "5b9c222e",
   "metadata": {},
   "outputs": [],
   "source": [
    "# rows = []\n",
    "# for a_result in results:\n",
    "#     a_row = {}\n",
    "#     for col, row in zip(columns, a_result):\n",
    "#         a_row[col] = row\n",
    "#     rows.append(a_row)"
   ]
  },
  {
   "cell_type": "code",
   "execution_count": null,
   "id": "bc8b064b",
   "metadata": {},
   "outputs": [],
   "source": [
    "# len(rows)\n",
    "# rows[0]"
   ]
  },
  {
   "cell_type": "markdown",
   "id": "94aad867",
   "metadata": {},
   "source": [
    "### Automate organisation with psycopg2 "
   ]
  },
  {
   "cell_type": "code",
   "execution_count": null,
   "id": "95174799",
   "metadata": {},
   "outputs": [],
   "source": [
    "conn = psycopg2.connect(dbname=dbname, user=user, password=password, host=host, port=port)\n",
    "\n",
    "cursor = conn.cursor(cursor_factory=psycopg2.extras.RealDictCursor)\n",
    "cursor.execute(\"SELECT * FROM ms_ig_metrics_x limit 10\")\n",
    "results = cursor.fetchall()\n",
    "cursor.close()\n",
    "conn.close()"
   ]
  },
  {
   "cell_type": "code",
   "execution_count": null,
   "id": "63062c4a",
   "metadata": {},
   "outputs": [],
   "source": [
    "len(results)"
   ]
  },
  {
   "cell_type": "code",
   "execution_count": null,
   "id": "39be73f0",
   "metadata": {},
   "outputs": [],
   "source": [
    "results[0]"
   ]
  },
  {
   "cell_type": "code",
   "execution_count": null,
   "id": "d7565600",
   "metadata": {},
   "outputs": [],
   "source": [
    "final_results = [dict(row) for row in results]\n",
    "final_results"
   ]
  }
 ],
 "metadata": {
  "kernelspec": {
   "display_name": "Python 3",
   "language": "python",
   "name": "python3"
  },
  "language_info": {
   "codemirror_mode": {
    "name": "ipython",
    "version": 3
   },
   "file_extension": ".py",
   "mimetype": "text/x-python",
   "name": "python",
   "nbconvert_exporter": "python",
   "pygments_lexer": "ipython3",
   "version": "3.10.4"
  }
 },
 "nbformat": 4,
 "nbformat_minor": 5
}
