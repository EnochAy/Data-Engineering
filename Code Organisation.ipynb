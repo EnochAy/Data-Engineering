{
 "cells": [
  {
   "cell_type": "code",
   "execution_count": 1,
   "id": "3adc3fa0",
   "metadata": {},
   "outputs": [],
   "source": [
    "import pandas as pd"
   ]
  },
  {
   "cell_type": "code",
   "execution_count": 2,
   "id": "0ac06866",
   "metadata": {},
   "outputs": [
    {
     "data": {
      "text/html": [
       "<div>\n",
       "<style scoped>\n",
       "    .dataframe tbody tr th:only-of-type {\n",
       "        vertical-align: middle;\n",
       "    }\n",
       "\n",
       "    .dataframe tbody tr th {\n",
       "        vertical-align: top;\n",
       "    }\n",
       "\n",
       "    .dataframe thead th {\n",
       "        text-align: right;\n",
       "    }\n",
       "</style>\n",
       "<table border=\"1\" class=\"dataframe\">\n",
       "  <thead>\n",
       "    <tr style=\"text-align: right;\">\n",
       "      <th></th>\n",
       "    </tr>\n",
       "  </thead>\n",
       "  <tbody>\n",
       "  </tbody>\n",
       "</table>\n",
       "</div>"
      ],
      "text/plain": [
       "Empty DataFrame\n",
       "Columns: []\n",
       "Index: []"
      ]
     },
     "execution_count": 2,
     "metadata": {},
     "output_type": "execute_result"
    }
   ],
   "source": [
    "df = pd.DataFrame()\n",
    "df"
   ]
  },
  {
   "cell_type": "code",
   "execution_count": 3,
   "id": "953ceb45",
   "metadata": {},
   "outputs": [
    {
     "data": {
      "text/html": [
       "<div>\n",
       "<style scoped>\n",
       "    .dataframe tbody tr th:only-of-type {\n",
       "        vertical-align: middle;\n",
       "    }\n",
       "\n",
       "    .dataframe tbody tr th {\n",
       "        vertical-align: top;\n",
       "    }\n",
       "\n",
       "    .dataframe thead th {\n",
       "        text-align: right;\n",
       "    }\n",
       "</style>\n",
       "<table border=\"1\" class=\"dataframe\">\n",
       "  <thead>\n",
       "    <tr style=\"text-align: right;\">\n",
       "      <th></th>\n",
       "      <th>names</th>\n",
       "    </tr>\n",
       "  </thead>\n",
       "  <tbody>\n",
       "    <tr>\n",
       "      <th>0</th>\n",
       "      <td>Kayode</td>\n",
       "    </tr>\n",
       "    <tr>\n",
       "      <th>1</th>\n",
       "      <td>Tochukwu</td>\n",
       "    </tr>\n",
       "    <tr>\n",
       "      <th>2</th>\n",
       "      <td>Moshood</td>\n",
       "    </tr>\n",
       "  </tbody>\n",
       "</table>\n",
       "</div>"
      ],
      "text/plain": [
       "      names\n",
       "0    Kayode\n",
       "1  Tochukwu\n",
       "2   Moshood"
      ]
     },
     "execution_count": 3,
     "metadata": {},
     "output_type": "execute_result"
    }
   ],
   "source": [
    "df[\"names\"] = [\"Kayode\", \"Tochukwu\", \"Moshood\"]\n",
    "df"
   ]
  },
  {
   "cell_type": "code",
   "execution_count": 4,
   "id": "a51774b5",
   "metadata": {},
   "outputs": [
    {
     "data": {
      "text/html": [
       "<div>\n",
       "<style scoped>\n",
       "    .dataframe tbody tr th:only-of-type {\n",
       "        vertical-align: middle;\n",
       "    }\n",
       "\n",
       "    .dataframe tbody tr th {\n",
       "        vertical-align: top;\n",
       "    }\n",
       "\n",
       "    .dataframe thead th {\n",
       "        text-align: right;\n",
       "    }\n",
       "</style>\n",
       "<table border=\"1\" class=\"dataframe\">\n",
       "  <thead>\n",
       "    <tr style=\"text-align: right;\">\n",
       "      <th></th>\n",
       "      <th>names</th>\n",
       "      <th>orgs</th>\n",
       "    </tr>\n",
       "  </thead>\n",
       "  <tbody>\n",
       "    <tr>\n",
       "      <th>0</th>\n",
       "      <td>Kayode</td>\n",
       "      <td>Tesla</td>\n",
       "    </tr>\n",
       "    <tr>\n",
       "      <th>1</th>\n",
       "      <td>Tochukwu</td>\n",
       "      <td>World Bank</td>\n",
       "    </tr>\n",
       "    <tr>\n",
       "      <th>2</th>\n",
       "      <td>Moshood</td>\n",
       "      <td>Tinubu</td>\n",
       "    </tr>\n",
       "  </tbody>\n",
       "</table>\n",
       "</div>"
      ],
      "text/plain": [
       "      names        orgs\n",
       "0    Kayode       Tesla\n",
       "1  Tochukwu  World Bank\n",
       "2   Moshood      Tinubu"
      ]
     },
     "execution_count": 4,
     "metadata": {},
     "output_type": "execute_result"
    }
   ],
   "source": [
    "df[\"orgs\"] = [\"Tesla\", \"World Bank\", \"Tinubu\"]\n",
    "df"
   ]
  },
  {
   "cell_type": "code",
   "execution_count": 8,
   "id": "000d1c0d",
   "metadata": {},
   "outputs": [
    {
     "data": {
      "text/plain": [
       "0     True\n",
       "1    False\n",
       "2    False\n",
       "Name: names, dtype: bool"
      ]
     },
     "execution_count": 8,
     "metadata": {},
     "output_type": "execute_result"
    }
   ],
   "source": [
    "df[\"names\"] == \"Kayode\""
   ]
  },
  {
   "cell_type": "code",
   "execution_count": 9,
   "id": "8c6ab009",
   "metadata": {},
   "outputs": [
    {
     "data": {
      "text/html": [
       "<div>\n",
       "<style scoped>\n",
       "    .dataframe tbody tr th:only-of-type {\n",
       "        vertical-align: middle;\n",
       "    }\n",
       "\n",
       "    .dataframe tbody tr th {\n",
       "        vertical-align: top;\n",
       "    }\n",
       "\n",
       "    .dataframe thead th {\n",
       "        text-align: right;\n",
       "    }\n",
       "</style>\n",
       "<table border=\"1\" class=\"dataframe\">\n",
       "  <thead>\n",
       "    <tr style=\"text-align: right;\">\n",
       "      <th></th>\n",
       "      <th>names</th>\n",
       "      <th>orgs</th>\n",
       "      <th>name</th>\n",
       "    </tr>\n",
       "  </thead>\n",
       "  <tbody>\n",
       "    <tr>\n",
       "      <th>0</th>\n",
       "      <td>Kayode</td>\n",
       "      <td>Tesla</td>\n",
       "      <td>Kayode</td>\n",
       "    </tr>\n",
       "  </tbody>\n",
       "</table>\n",
       "</div>"
      ],
      "text/plain": [
       "    names   orgs    name\n",
       "0  Kayode  Tesla  Kayode"
      ]
     },
     "execution_count": 9,
     "metadata": {},
     "output_type": "execute_result"
    }
   ],
   "source": [
    "df[df[\"names\"] == \"Kayode\"]"
   ]
  },
  {
   "cell_type": "code",
   "execution_count": 11,
   "id": "7aaa3335",
   "metadata": {},
   "outputs": [
    {
     "data": {
      "text/html": [
       "<div>\n",
       "<style scoped>\n",
       "    .dataframe tbody tr th:only-of-type {\n",
       "        vertical-align: middle;\n",
       "    }\n",
       "\n",
       "    .dataframe tbody tr th {\n",
       "        vertical-align: top;\n",
       "    }\n",
       "\n",
       "    .dataframe thead th {\n",
       "        text-align: right;\n",
       "    }\n",
       "</style>\n",
       "<table border=\"1\" class=\"dataframe\">\n",
       "  <thead>\n",
       "    <tr style=\"text-align: right;\">\n",
       "      <th></th>\n",
       "      <th>names</th>\n",
       "      <th>orgs</th>\n",
       "      <th>name</th>\n",
       "    </tr>\n",
       "  </thead>\n",
       "  <tbody>\n",
       "    <tr>\n",
       "      <th>0</th>\n",
       "      <td>Kayode</td>\n",
       "      <td>Tesla</td>\n",
       "      <td>Kayode</td>\n",
       "    </tr>\n",
       "    <tr>\n",
       "      <th>1</th>\n",
       "      <td>Tochukwu</td>\n",
       "      <td>World Bank</td>\n",
       "      <td>Kayode</td>\n",
       "    </tr>\n",
       "    <tr>\n",
       "      <th>2</th>\n",
       "      <td>Moshood</td>\n",
       "      <td>Tinubu</td>\n",
       "      <td>Kayode</td>\n",
       "    </tr>\n",
       "  </tbody>\n",
       "</table>\n",
       "</div>"
      ],
      "text/plain": [
       "      names        orgs    name\n",
       "0    Kayode       Tesla  Kayode\n",
       "1  Tochukwu  World Bank  Kayode\n",
       "2   Moshood      Tinubu  Kayode"
      ]
     },
     "execution_count": 11,
     "metadata": {},
     "output_type": "execute_result"
    }
   ],
   "source": [
    "df"
   ]
  },
  {
   "cell_type": "code",
   "execution_count": 12,
   "id": "7b13ed9d",
   "metadata": {},
   "outputs": [
    {
     "data": {
      "text/plain": [
       "0      Kayode\n",
       "1    Tochukwu\n",
       "2     Moshood\n",
       "Name: names, dtype: object"
      ]
     },
     "execution_count": 12,
     "metadata": {},
     "output_type": "execute_result"
    }
   ],
   "source": [
    "df.names"
   ]
  },
  {
   "cell_type": "code",
   "execution_count": 16,
   "id": "5f0a8788",
   "metadata": {},
   "outputs": [
    {
     "data": {
      "text/plain": [
       "'Kay'"
      ]
     },
     "execution_count": 16,
     "metadata": {},
     "output_type": "execute_result"
    }
   ],
   "source": [
    "df.names.iloc[0][:3]"
   ]
  },
  {
   "cell_type": "code",
   "execution_count": 18,
   "id": "047d1c93",
   "metadata": {},
   "outputs": [
    {
     "name": "stdout",
     "output_type": "stream",
     "text": [
      "Kay\n",
      "Toc\n",
      "Mos\n"
     ]
    }
   ],
   "source": [
    "for row in df.names.tolist():\n",
    "    print(row[:3])"
   ]
  },
  {
   "cell_type": "code",
   "execution_count": 22,
   "id": "b5db459f",
   "metadata": {},
   "outputs": [],
   "source": [
    "#make a dataframe: return\n",
    "#materials as input from existing variables\n",
    "#create data"
   ]
  },
  {
   "cell_type": "code",
   "execution_count": 53,
   "id": "79d6fe54",
   "metadata": {},
   "outputs": [],
   "source": [
    "#create a dataframe from a set of python lists\n",
    "def df_maker():\n",
    "    orgs = [\"Tesla\", \"World Bank\", \"Tinubu\", \"Keen British School\"]\n",
    "    names = [\"Kayode\", \"Tochukwu\", \"Moshood\", \"Kamsi\"]\n",
    "    column_one = \"names\"\n",
    "    column_two = \"orgs\"\n",
    "\n",
    "    dfx = pd.DataFrame()\n",
    "    dfx[column_one] = names\n",
    "    dfx[column_two] = orgs\n",
    "    return dfx"
   ]
  },
  {
   "cell_type": "code",
   "execution_count": 32,
   "id": "970eb95d",
   "metadata": {},
   "outputs": [],
   "source": [
    "data = df_maker()"
   ]
  },
  {
   "cell_type": "code",
   "execution_count": 33,
   "id": "e41b5881",
   "metadata": {},
   "outputs": [
    {
     "data": {
      "text/html": [
       "<div>\n",
       "<style scoped>\n",
       "    .dataframe tbody tr th:only-of-type {\n",
       "        vertical-align: middle;\n",
       "    }\n",
       "\n",
       "    .dataframe tbody tr th {\n",
       "        vertical-align: top;\n",
       "    }\n",
       "\n",
       "    .dataframe thead th {\n",
       "        text-align: right;\n",
       "    }\n",
       "</style>\n",
       "<table border=\"1\" class=\"dataframe\">\n",
       "  <thead>\n",
       "    <tr style=\"text-align: right;\">\n",
       "      <th></th>\n",
       "      <th>names</th>\n",
       "      <th>orgs</th>\n",
       "    </tr>\n",
       "  </thead>\n",
       "  <tbody>\n",
       "    <tr>\n",
       "      <th>0</th>\n",
       "      <td>Kayode</td>\n",
       "      <td>Tesla</td>\n",
       "    </tr>\n",
       "    <tr>\n",
       "      <th>1</th>\n",
       "      <td>Tochukwu</td>\n",
       "      <td>World Bank</td>\n",
       "    </tr>\n",
       "    <tr>\n",
       "      <th>2</th>\n",
       "      <td>Moshood</td>\n",
       "      <td>Tinubu</td>\n",
       "    </tr>\n",
       "  </tbody>\n",
       "</table>\n",
       "</div>"
      ],
      "text/plain": [
       "      names        orgs\n",
       "0    Kayode       Tesla\n",
       "1  Tochukwu  World Bank\n",
       "2   Moshood      Tinubu"
      ]
     },
     "execution_count": 33,
     "metadata": {},
     "output_type": "execute_result"
    }
   ],
   "source": [
    "data"
   ]
  },
  {
   "cell_type": "code",
   "execution_count": 35,
   "id": "892ffbba",
   "metadata": {},
   "outputs": [
    {
     "data": {
      "text/plain": [
       "pandas.core.frame.DataFrame"
      ]
     },
     "execution_count": 35,
     "metadata": {},
     "output_type": "execute_result"
    }
   ],
   "source": [
    "type(data)"
   ]
  },
  {
   "cell_type": "code",
   "execution_count": 43,
   "id": "00902991",
   "metadata": {},
   "outputs": [],
   "source": [
    "def parse(data):\n",
    "    for row in data.itertuples():\n",
    "        user = row.names\n",
    "        if user == 'Moshood':\n",
    "            message = f\"{row.names} does not works with {row.orgs}\"\n",
    "        else:\n",
    "            message = f\"{row.names} works with {row.orgs}\"\n",
    "        print(message)"
   ]
  },
  {
   "cell_type": "code",
   "execution_count": 46,
   "id": "fba7f2f1",
   "metadata": {},
   "outputs": [
    {
     "name": "stdout",
     "output_type": "stream",
     "text": [
      "Kayode works with Tesla\n",
      "Tochukwu works with World Bank\n",
      "Moshood does not works with Tinubu\n"
     ]
    }
   ],
   "source": [
    "parse(data)"
   ]
  },
  {
   "cell_type": "code",
   "execution_count": 51,
   "id": "0dc9e452",
   "metadata": {},
   "outputs": [],
   "source": [
    "def do():\n",
    "    my_data = df_maker() \n",
    "    parse(my_data)\n",
    "    return \"Job done!\""
   ]
  },
  {
   "cell_type": "code",
   "execution_count": 54,
   "id": "a30450c9",
   "metadata": {},
   "outputs": [
    {
     "name": "stdout",
     "output_type": "stream",
     "text": [
      "Kayode works with Tesla\n",
      "Tochukwu works with World Bank\n",
      "Moshood does not works with Tinubu\n",
      "Kamsi works with Keen British School\n"
     ]
    },
    {
     "data": {
      "text/plain": [
       "'Job done!'"
      ]
     },
     "execution_count": 54,
     "metadata": {},
     "output_type": "execute_result"
    }
   ],
   "source": [
    "do()"
   ]
  },
  {
   "cell_type": "code",
   "execution_count": null,
   "id": "a4bbb5ca",
   "metadata": {},
   "outputs": [],
   "source": []
  }
 ],
 "metadata": {
  "kernelspec": {
   "display_name": "Python 3 (ipykernel)",
   "language": "python",
   "name": "python3"
  },
  "language_info": {
   "codemirror_mode": {
    "name": "ipython",
    "version": 3
   },
   "file_extension": ".py",
   "mimetype": "text/x-python",
   "name": "python",
   "nbconvert_exporter": "python",
   "pygments_lexer": "ipython3",
   "version": "3.10.10"
  }
 },
 "nbformat": 4,
 "nbformat_minor": 5
}
